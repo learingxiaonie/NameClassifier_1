{
 "cells": [
  {
   "cell_type": "code",
   "outputs": [],
   "source": [
    "import torch"
   ],
   "metadata": {
    "collapsed": false,
    "ExecuteTime": {
     "end_time": "2024-07-28T09:07:13.778142300Z",
     "start_time": "2024-07-28T09:07:11.170305600Z"
    }
   },
   "id": "fca7410e1ea0cbf8",
   "execution_count": 1
  },
  {
   "cell_type": "code",
   "outputs": [],
   "source": [
    "x = [\n",
    "    [1,0,1,0],\n",
    "    [0,2,0,2],\n",
    "    [1,1,1,1]\n",
    "]\n",
    "x = torch.tensor(x,dtype=torch.float)"
   ],
   "metadata": {
    "collapsed": false,
    "ExecuteTime": {
     "end_time": "2024-07-27T03:04:06.347189100Z",
     "start_time": "2024-07-27T03:04:06.327520600Z"
    }
   },
   "id": "3c293e8d8ef7810a",
   "execution_count": 2
  },
  {
   "cell_type": "code",
   "outputs": [
    {
     "name": "stdout",
     "output_type": "stream",
     "text": [
      "w_key: \n",
      " tensor([[0., 0., 1.],\n",
      "        [1., 1., 0.],\n",
      "        [0., 1., 0.],\n",
      "        [1., 1., 0.]])\n",
      "w_query: \n",
      " tensor([[1., 0., 1.],\n",
      "        [1., 0., 0.],\n",
      "        [0., 0., 1.],\n",
      "        [0., 1., 1.]])\n",
      "w_value: \n",
      " tensor([[0., 2., 0.],\n",
      "        [0., 3., 0.],\n",
      "        [1., 0., 3.],\n",
      "        [1., 1., 0.]])\n"
     ]
    }
   ],
   "source": [
    "# 每一个输入都有三个表示，分别为key（橙黄色）query（红色）value（紫色）。比如说，每一个表示我们希望是一个3维的向量。由于输入是4维，所以我们的参数矩阵为 4*3 维。\n",
    "\n",
    "# 为了能够获取这些表示，每一个输入（绿色）要和key，query和value相乘，在例子中，我们使用如下的方式初始化这些参数。\n",
    "w_key = [\n",
    "  [0, 0, 1],\n",
    "  [1, 1, 0],\n",
    "  [0, 1, 0],\n",
    "  [1, 1, 0]\n",
    "]\n",
    "w_query = [\n",
    "  [1, 0, 1],\n",
    "  [1, 0, 0],\n",
    "  [0, 0, 1],\n",
    "  [0, 1, 1]\n",
    "]\n",
    "w_value = [\n",
    "  [0, 2, 0],\n",
    "  [0, 3, 0],\n",
    "  [1, 0, 3],\n",
    "  [1, 1, 0]\n",
    "]\n",
    "w_key = torch.tensor(w_key, dtype=torch.float32)\n",
    "w_query = torch.tensor(w_query, dtype=torch.float32)\n",
    "w_value = torch.tensor(w_value, dtype=torch.float32)\n",
    "\n",
    "print(\"w_key: \\n\", w_key)\n",
    "print(\"w_query: \\n\", w_query)\n",
    "print(\"w_value: \\n\", w_value)"
   ],
   "metadata": {
    "collapsed": false,
    "ExecuteTime": {
     "end_time": "2024-07-27T03:04:06.824070Z",
     "start_time": "2024-07-27T03:04:06.794897Z"
    }
   },
   "id": "a20f72e4c283ef3a",
   "execution_count": 3
  },
  {
   "cell_type": "code",
   "outputs": [
    {
     "name": "stdout",
     "output_type": "stream",
     "text": [
      "key: \n",
      " tensor([[0., 1., 1.],\n",
      "        [4., 4., 0.],\n",
      "        [2., 3., 1.]])\n",
      "query: \n",
      " tensor([[1., 0., 2.],\n",
      "        [2., 2., 2.],\n",
      "        [2., 1., 3.]])\n",
      "value:\n",
      " tensor([[1., 2., 3.],\n",
      "        [2., 8., 0.],\n",
      "        [2., 6., 3.]])\n"
     ]
    }
   ],
   "source": [
    "keys = x @ w_key\n",
    "querys = x @ w_query\n",
    "values = x @ w_value\n",
    "print(\"key: \\n\", keys)\n",
    "print(\"query: \\n\",querys)\n",
    "print(\"value:\\n\",values)"
   ],
   "metadata": {
    "collapsed": false,
    "ExecuteTime": {
     "end_time": "2024-07-27T03:04:07.596523300Z",
     "start_time": "2024-07-27T03:04:07.567297200Z"
    }
   },
   "id": "3715878cc09edd27",
   "execution_count": 4
  },
  {
   "cell_type": "code",
   "outputs": [
    {
     "name": "stdout",
     "output_type": "stream",
     "text": [
      "tensor([[ 2.,  4.,  4.],\n",
      "        [ 4., 16., 12.],\n",
      "        [ 4., 12., 10.]])\n"
     ]
    }
   ],
   "source": [
    "attn_scores = querys @ keys.T\n",
    "print(attn_scores)"
   ],
   "metadata": {
    "collapsed": false,
    "ExecuteTime": {
     "end_time": "2024-07-27T03:04:08.176503900Z",
     "start_time": "2024-07-27T03:04:08.145573300Z"
    }
   },
   "id": "dbf770a1abf2f365",
   "execution_count": 5
  },
  {
   "cell_type": "code",
   "outputs": [
    {
     "ename": "NameError",
     "evalue": "name 'softmax' is not defined",
     "output_type": "error",
     "traceback": [
      "\u001B[1;31m---------------------------------------------------------------------------\u001B[0m",
      "\u001B[1;31mNameError\u001B[0m                                 Traceback (most recent call last)",
      "Cell \u001B[1;32mIn[6], line 1\u001B[0m\n\u001B[1;32m----> 1\u001B[0m \u001B[43msoftmax\u001B[49m([\u001B[38;5;241m2\u001B[39m,\u001B[38;5;241m4\u001B[39m,\u001B[38;5;241m4\u001B[39m]) \u001B[38;5;241m==\u001B[39m [\u001B[38;5;241m0.0\u001B[39m,\u001B[38;5;241m0.5\u001B[39m,\u001B[38;5;241m0.5\u001B[39m]\n",
      "\u001B[1;31mNameError\u001B[0m: name 'softmax' is not defined"
     ]
    }
   ],
   "source": [
    "softmax([2,4,4]) == [0.0,0.5,0.5]"
   ],
   "metadata": {
    "collapsed": false,
    "ExecuteTime": {
     "end_time": "2024-07-27T03:04:09.834396100Z",
     "start_time": "2024-07-27T03:04:09.228050600Z"
    }
   },
   "id": "84857b0c30573723",
   "execution_count": 6
  },
  {
   "cell_type": "code",
   "outputs": [
    {
     "name": "stdout",
     "output_type": "stream",
     "text": [
      "tensor([[6.3379e-02, 4.6831e-01, 4.6831e-01],\n",
      "        [6.0337e-06, 9.8201e-01, 1.7986e-02],\n",
      "        [2.9539e-04, 8.8054e-01, 1.1917e-01]])\n",
      "tensor([[0.0000, 0.5000, 0.5000],\n",
      "        [0.0000, 1.0000, 0.0000],\n",
      "        [0.0000, 0.9000, 0.1000]])\n"
     ]
    }
   ],
   "source": [
    "from torch.nn.functional import softmax\n",
    "\n",
    "attn_scores_softmax = softmax(attn_scores, dim=-1)\n",
    "print(attn_scores_softmax)\n",
    "attn_scores_softmax = [\n",
    "  [0.0, 0.5, 0.5],\n",
    "  [0.0, 1.0, 0.0],\n",
    "  [0.0, 0.9, 0.1]\n",
    "]\n",
    "attn_scores_softmax = torch.tensor(attn_scores_softmax)\n",
    "print(attn_scores_softmax)\n"
   ],
   "metadata": {
    "collapsed": false,
    "ExecuteTime": {
     "end_time": "2024-07-27T03:04:12.847593900Z",
     "start_time": "2024-07-27T03:04:12.812303100Z"
    }
   },
   "id": "1065be18fd65130c",
   "execution_count": 7
  },
  {
   "cell_type": "code",
   "outputs": [
    {
     "name": "stdout",
     "output_type": "stream",
     "text": [
      "tensor([[[0.0000, 0.0000, 0.0000],\n",
      "         [0.0000, 0.0000, 0.0000],\n",
      "         [0.0000, 0.0000, 0.0000]],\n",
      "\n",
      "        [[1.0000, 4.0000, 0.0000],\n",
      "         [2.0000, 8.0000, 0.0000],\n",
      "         [1.8000, 7.2000, 0.0000]],\n",
      "\n",
      "        [[1.0000, 3.0000, 1.5000],\n",
      "         [0.0000, 0.0000, 0.0000],\n",
      "         [0.2000, 0.6000, 0.3000]]])\n"
     ]
    }
   ],
   "source": [
    "weighted_values = values[:,None] * attn_scores_softmax.T[:,:,None]\n",
    "print(weighted_values)"
   ],
   "metadata": {
    "collapsed": false,
    "ExecuteTime": {
     "end_time": "2024-07-27T03:04:13.606618200Z",
     "start_time": "2024-07-27T03:04:13.568067400Z"
    }
   },
   "id": "5cc94406439cc472",
   "execution_count": 8
  },
  {
   "cell_type": "code",
   "outputs": [
    {
     "name": "stdout",
     "output_type": "stream",
     "text": [
      "tensor([[2.0000, 7.0000, 1.5000],\n",
      "        [2.0000, 8.0000, 0.0000],\n",
      "        [2.0000, 7.8000, 0.3000]])\n"
     ]
    }
   ],
   "source": [
    "outputs = weighted_values.sum(dim = 0)\n",
    "print(outputs)"
   ],
   "metadata": {
    "collapsed": false,
    "ExecuteTime": {
     "end_time": "2024-07-27T03:04:14.358813Z",
     "start_time": "2024-07-27T03:04:14.311715300Z"
    }
   },
   "id": "fb3f341f8a1d086c",
   "execution_count": 9
  },
  {
   "cell_type": "code",
   "outputs": [],
   "source": [
    "from io import open\n",
    "import glob\n",
    "import os\n",
    "import string\n",
    "import unicodedata\n",
    "import random\n",
    "import time\n",
    "import math\n",
    "import math\n",
    "import torch\n",
    "import torch.nn as nn\n",
    "import matplotlib.pyplot as plt"
   ],
   "metadata": {
    "collapsed": false,
    "ExecuteTime": {
     "end_time": "2024-07-27T03:04:15.889940500Z",
     "start_time": "2024-07-27T03:04:15.048648700Z"
    }
   },
   "id": "e4ea32698ab44408",
   "execution_count": 10
  },
  {
   "cell_type": "code",
   "outputs": [
    {
     "name": "stdout",
     "output_type": "stream",
     "text": [
      "n_letter: 57\n"
     ]
    }
   ],
   "source": [
    "all_letters = string.ascii_letters + \" .,;'\"\n",
    "n_letters = len(all_letters)\n",
    "print(\"n_letter:\",n_letters)"
   ],
   "metadata": {
    "collapsed": false,
    "ExecuteTime": {
     "end_time": "2024-07-27T03:04:23.819343800Z",
     "start_time": "2024-07-27T03:04:23.811121300Z"
    }
   },
   "id": "8fb708e12b7e00ab",
   "execution_count": 11
  },
  {
   "cell_type": "code",
   "outputs": [],
   "source": [
    "def unicodeToAscii(s):\n",
    "  return ''.join(\n",
    "    c for c in unicodedata.normalize('NFD',s)\n",
    "    if unicodedata.category(c) != 'Mn'\n",
    "    and c in all_letters\n",
    "  )"
   ],
   "metadata": {
    "collapsed": false,
    "ExecuteTime": {
     "end_time": "2024-07-27T03:04:24.352880700Z",
     "start_time": "2024-07-27T03:04:24.323093700Z"
    }
   },
   "id": "c3e7bdd745e05394",
   "execution_count": 12
  },
  {
   "cell_type": "code",
   "outputs": [
    {
     "name": "stdout",
     "output_type": "stream",
     "text": [
      "Slusarski\n"
     ]
    }
   ],
   "source": [
    "s = \"Ślusàrski\"\n",
    "a = unicodeToAscii(s)\n",
    "print(a)"
   ],
   "metadata": {
    "collapsed": false,
    "ExecuteTime": {
     "end_time": "2024-07-27T03:04:24.839506100Z",
     "start_time": "2024-07-27T03:04:24.816324800Z"
    }
   },
   "id": "104d125e98bbd74d",
   "execution_count": 13
  },
  {
   "cell_type": "code",
   "outputs": [],
   "source": [
    "data_path = \"names\"\n",
    "def readLines(filename):\n",
    "  lines = open(filename,encoding='utf-8').read().strip().split('\\n')\n",
    "  return [unicodeToAscii(line) for line in lines]"
   ],
   "metadata": {
    "collapsed": false,
    "ExecuteTime": {
     "end_time": "2024-07-27T03:04:25.540282100Z",
     "start_time": "2024-07-27T03:04:25.519994200Z"
    }
   },
   "id": "9c5106965b9a1ecc",
   "execution_count": 14
  },
  {
   "cell_type": "code",
   "outputs": [
    {
     "name": "stdout",
     "output_type": "stream",
     "text": [
      "['Ang', 'AuYong', 'Bai', 'Ban', 'Bao', 'Bei', 'Bian', 'Bui', 'Cai', 'Cao', 'Cen', 'Chai', 'Chaim', 'Chan', 'Chang', 'Chao', 'Che', 'Chen', 'Cheng', 'Cheung', 'Chew', 'Chieu', 'Chin', 'Chong', 'Chou', 'Chu', 'Cui', 'Dai', 'Deng', 'Ding', 'Dong', 'Dou', 'Duan', 'Eng', 'Fan', 'Fei', 'Feng', 'Foong', 'Fung', 'Gan', 'Gauk', 'Geng', 'Gim', 'Gok', 'Gong', 'Guan', 'Guang', 'Guo', 'Gwock', 'Han', 'Hang', 'Hao', 'Hew', 'Hiu', 'Hong', 'Hor', 'Hsiao', 'Hua', 'Huan', 'Huang', 'Hui', 'Huie', 'Huo', 'Jia', 'Jiang', 'Jin', 'Jing', 'Joe', 'Kang', 'Kau', 'Khoo', 'Khu', 'Kong', 'Koo', 'Kwan', 'Kwei', 'Kwong', 'Lai', 'Lam', 'Lang', 'Lau', 'Law', 'Lew', 'Lian', 'Liao', 'Lim', 'Lin', 'Ling', 'Liu', 'Loh', 'Long', 'Loong', 'Luo', 'Mah', 'Mai', 'Mak', 'Mao', 'Mar', 'Mei', 'Meng', 'Miao', 'Min', 'Ming', 'Moy', 'Mui', 'Nie', 'Niu', 'OuYang', 'OwYang', 'Pan', 'Pang', 'Pei', 'Peng', 'Ping', 'Qian', 'Qin', 'Qiu', 'Quan', 'Que', 'Ran', 'Rao', 'Rong', 'Ruan', 'Sam', 'Seah', 'See ', 'Seow', 'Seto', 'Sha', 'Shan', 'Shang', 'Shao', 'Shaw', 'She', 'Shen', 'Sheng', 'Shi', 'Shu', 'Shuai', 'Shui', 'Shum', 'Siew', 'Siu', 'Song', 'Sum', 'Sun', 'Sze ', 'Tan', 'Tang', 'Tao', 'Teng', 'Teoh', 'Thean', 'Thian', 'Thien', 'Tian', 'Tong', 'Tow', 'Tsang', 'Tse', 'Tsen', 'Tso', 'Tze', 'Wan', 'Wang', 'Wei', 'Wen', 'Weng', 'Won', 'Wong', 'Woo', 'Xiang', 'Xiao', 'Xie', 'Xing', 'Xue', 'Xun', 'Yan', 'Yang', 'Yao', 'Yap', 'Yau', 'Yee', 'Yep', 'Yim', 'Yin', 'Ying', 'Yong', 'You', 'Yuan', 'Zang', 'Zeng', 'Zha', 'Zhan', 'Zhang', 'Zhao', 'Zhen', 'Zheng', 'Zhong', 'Zhou', 'Zhu', 'Zhuo', 'Zong', 'Zou', 'Bing', 'Chi', 'Chu', 'Cong', 'Cuan', 'Dan', 'Fei', 'Feng', 'Gai', 'Gao', 'Gou', 'Guan', 'Gui', 'Guo', 'Hong', 'Hou', 'Huan', 'Jian', 'Jiao', 'Jin', 'Jiu', 'Juan', 'Jue', 'Kan', 'Kuai', 'Kuang', 'Kui', 'Lao', 'Liang', 'Lu', 'Luo', 'Man', 'Nao', 'Pian', 'Qiao', 'Qing', 'Qiu', 'Rang', 'Rui', 'She', 'Shi', 'Shuo', 'Sui', 'Tai', 'Wan', 'Wei', 'Xian', 'Xie', 'Xin', 'Xing', 'Xiong', 'Xuan', 'Yan', 'Yin', 'Ying', 'Yuan', 'Yue', 'Yun', 'Zha', 'Zhai', 'Zhang', 'Zhi', 'Zhuan', 'Zhui']\n"
     ]
    }
   ],
   "source": [
    "filenames = data_path + \"/Chinese.txt\"\n",
    "lines = readLines(filenames)\n",
    "print(lines)"
   ],
   "metadata": {
    "collapsed": false,
    "ExecuteTime": {
     "end_time": "2024-07-27T03:04:26.187601900Z",
     "start_time": "2024-07-27T03:04:26.151831500Z"
    }
   },
   "id": "cf43f33f8f0231f8",
   "execution_count": 15
  },
  {
   "cell_type": "code",
   "outputs": [
    {
     "name": "stdout",
     "output_type": "stream",
     "text": [
      "n_categories: 18\n",
      "['Abandonato', 'Abatangelo', 'Abatantuono', 'Abate', 'Abategiovanni']\n"
     ]
    }
   ],
   "source": [
    "category_lines = {}\n",
    "all_categories = []\n",
    "for filename in glob.glob(data_path + \"/*.txt\"):\n",
    "  category = os.path.splitext(os.path.basename(filename))[0]\n",
    "  all_categories.append(category)\n",
    "  lines = readLines(filename)\n",
    "  category_lines[category] = lines\n",
    "\n",
    "n_categories = len(all_categories)\n",
    "print(\"n_categories:\",n_categories)\n",
    "\n",
    "print(category_lines['Italian'][:5])"
   ],
   "metadata": {
    "collapsed": false,
    "ExecuteTime": {
     "end_time": "2024-07-27T03:04:27.117348700Z",
     "start_time": "2024-07-27T03:04:26.952654700Z"
    }
   },
   "id": "70ff346e6a861a0",
   "execution_count": 16
  },
  {
   "cell_type": "code",
   "outputs": [],
   "source": [
    "def lineToTensor(line):\n",
    "  tensor = torch.zeros(len(line),1,n_letters)\n",
    "  for li,letter in enumerate(line):\n",
    "    tensor[li][0][all_letters.find(letter)] = 1\n",
    "  return tensor"
   ],
   "metadata": {
    "collapsed": false,
    "ExecuteTime": {
     "end_time": "2024-07-27T03:04:27.627199300Z",
     "start_time": "2024-07-27T03:04:27.619299800Z"
    }
   },
   "id": "7e82df9912c45fda",
   "execution_count": 17
  },
  {
   "cell_type": "code",
   "outputs": [
    {
     "name": "stdout",
     "output_type": "stream",
     "text": [
      "line_tensot: tensor([[[0., 0., 0., 0., 0., 0., 0., 0., 0., 0., 0., 0., 0., 0., 0., 0., 0.,\n",
      "          0., 0., 0., 0., 0., 0., 0., 0., 0., 0., 1., 0., 0., 0., 0., 0., 0.,\n",
      "          0., 0., 0., 0., 0., 0., 0., 0., 0., 0., 0., 0., 0., 0., 0., 0., 0.,\n",
      "          0., 0., 0., 0., 0., 0.]],\n",
      "\n",
      "        [[1., 0., 0., 0., 0., 0., 0., 0., 0., 0., 0., 0., 0., 0., 0., 0., 0.,\n",
      "          0., 0., 0., 0., 0., 0., 0., 0., 0., 0., 0., 0., 0., 0., 0., 0., 0.,\n",
      "          0., 0., 0., 0., 0., 0., 0., 0., 0., 0., 0., 0., 0., 0., 0., 0., 0.,\n",
      "          0., 0., 0., 0., 0., 0.]],\n",
      "\n",
      "        [[0., 0., 0., 0., 0., 0., 0., 0., 1., 0., 0., 0., 0., 0., 0., 0., 0.,\n",
      "          0., 0., 0., 0., 0., 0., 0., 0., 0., 0., 0., 0., 0., 0., 0., 0., 0.,\n",
      "          0., 0., 0., 0., 0., 0., 0., 0., 0., 0., 0., 0., 0., 0., 0., 0., 0.,\n",
      "          0., 0., 0., 0., 0., 0.]]])\n"
     ]
    }
   ],
   "source": [
    "line = \"Bai\"\n",
    "line_tensor = lineToTensor(line)\n",
    "print(\"line_tensot:\",line_tensor)"
   ],
   "metadata": {
    "collapsed": false,
    "ExecuteTime": {
     "end_time": "2024-07-25T03:22:57.582874700Z",
     "start_time": "2024-07-25T03:22:57.566820200Z"
    }
   },
   "id": "3599dd2b4e2107ae",
   "execution_count": 45
  },
  {
   "cell_type": "code",
   "outputs": [],
   "source": [
    "class RNN(nn.Module):\n",
    "  def __init__(self,input_size,hidden_size,output_size,num_layers = 1):\n",
    "    super(RNN,self).__init__()\n",
    "    self.hidden_size = hidden_size\n",
    "    self.num_layers = num_layers\n",
    "    self.rnn = nn.RNN(input_size,hidden_size,num_layers)\n",
    "    self.linear = nn.Linear(hidden_size,output_size)\n",
    "    self.softmax = nn.LogSoftmax(dim = -1)\n",
    "  \n",
    "  def forward(self,input,hidden):\n",
    "    input = input.unsqueeze(0)\n",
    "    rr,hn = self.rnn(input,hidden)\n",
    "    return self.softmax(self.linear(rr)),hn\n",
    "  \n",
    "  def initHidden(self):\n",
    "    return torch.zeros(self.num_layers,1,self.hidden_size)"
   ],
   "metadata": {
    "collapsed": false,
    "ExecuteTime": {
     "end_time": "2024-07-25T03:51:40.957025200Z",
     "start_time": "2024-07-25T03:51:40.936060300Z"
    }
   },
   "id": "67e54681d92edb3",
   "execution_count": 54
  },
  {
   "cell_type": "code",
   "outputs": [
    {
     "data": {
      "text/plain": "tensor([[1, 2, 3, 4]])"
     },
     "execution_count": 47,
     "metadata": {},
     "output_type": "execute_result"
    }
   ],
   "source": [
    "x = torch.tensor([1,2,3,4])\n",
    "torch.unsqueeze(x,0)"
   ],
   "metadata": {
    "collapsed": false,
    "ExecuteTime": {
     "end_time": "2024-07-25T03:35:07.655475800Z",
     "start_time": "2024-07-25T03:35:07.609002100Z"
    }
   },
   "id": "1bd7197468f7c5a0",
   "execution_count": 47
  },
  {
   "cell_type": "code",
   "outputs": [
    {
     "data": {
      "text/plain": "tensor([[1],\n        [2],\n        [3],\n        [4]])"
     },
     "execution_count": 48,
     "metadata": {},
     "output_type": "execute_result"
    }
   ],
   "source": [
    "torch.unsqueeze(x,1)"
   ],
   "metadata": {
    "collapsed": false,
    "ExecuteTime": {
     "end_time": "2024-07-25T03:35:51.021127500Z",
     "start_time": "2024-07-25T03:35:50.985721800Z"
    }
   },
   "id": "674bffa32c3b05db",
   "execution_count": 48
  },
  {
   "cell_type": "code",
   "outputs": [],
   "source": [
    "class LSTM(nn.Module):\n",
    "  def __init__(self,input_size,hidden_size,output_size,num_layers = 1):\n",
    "    super(LSTM,self).__init__()\n",
    "    self.hidden_size = hidden_size\n",
    "    self.num_layers = num_layers\n",
    "    \n",
    "    self.lstm = nn.LSTM(input_size,hidden_size,num_layers)\n",
    "    self.linear = nn.Linear(hidden_size,output_size)\n",
    "    self.softmax = nn.LogSoftmax(dim = -1)\n",
    "    \n",
    "  def forward(self,input,hidden,c):\n",
    "    input = input.unsqueeze(0)\n",
    "    rr,(hn,c) = self.lstm(input,(hidden,c))\n",
    "    return self.softmax(self.linear(rr)),hn,c\n",
    "  \n",
    "  def initHiddenAndc(self):\n",
    "    c = hidden = torch.zeros(self.num_layers,1,self.hidden_size)\n",
    "    return hidden,c"
   ],
   "metadata": {
    "collapsed": false,
    "ExecuteTime": {
     "end_time": "2024-07-25T03:52:24.910554900Z",
     "start_time": "2024-07-25T03:52:24.881789300Z"
    }
   },
   "id": "da5e0b756f643a6a",
   "execution_count": 56
  },
  {
   "cell_type": "code",
   "outputs": [],
   "source": [
    "# 使用nn.GRU构建完成传统RNN使用类\n",
    "\n",
    "# GRU与传统RNN的外部形式相同, 都是只传递隐层张量, 因此只需要更改预定义层的名字\n",
    "\n",
    "\n",
    "class GRU(nn.Module):\n",
    "    def __init__(self, input_size, hidden_size, output_size, num_layers=1):\n",
    "        super(GRU, self).__init__()\n",
    "        self.hidden_size = hidden_size\n",
    "        self.num_layers = num_layers\n",
    "\n",
    "        # 实例化预定义的nn.GRU, 它的三个参数分别是input_size, hidden_size, num_layers\n",
    "        self.gru = nn.GRU(input_size, hidden_size, num_layers)\n",
    "        self.linear = nn.Linear(hidden_size, output_size)\n",
    "        self.softmax = nn.LogSoftmax(dim=-1)\n",
    "\n",
    "    def forward(self, input, hidden):\n",
    "        input = input.unsqueeze(0)\n",
    "        rr, hn = self.gru(input, hidden)\n",
    "        return self.softmax(self.linear(rr)), hn\n",
    "\n",
    "    def initHidden(self):\n",
    "        return torch.zeros(self.num_layers, 1, self.hidden_size)\n"
   ],
   "metadata": {
    "collapsed": false,
    "ExecuteTime": {
     "end_time": "2024-07-25T03:44:43.929192400Z",
     "start_time": "2024-07-25T03:44:43.905989Z"
    }
   },
   "id": "dcf91c546971a2e4",
   "execution_count": 50
  },
  {
   "cell_type": "code",
   "outputs": [],
   "source": [
    "input_size = n_letters\n",
    "n_hidden = 128\n",
    "output_size = n_categories"
   ],
   "metadata": {
    "collapsed": false,
    "ExecuteTime": {
     "end_time": "2024-07-25T03:46:26.039267700Z",
     "start_time": "2024-07-25T03:46:26.016803400Z"
    }
   },
   "id": "2be12bda6b5d0ff1",
   "execution_count": 51
  },
  {
   "cell_type": "code",
   "outputs": [],
   "source": [
    "input = lineToTensor('B').squeeze(0)\n",
    "hidden = c = torch.zeros(1,1,n_hidden)"
   ],
   "metadata": {
    "collapsed": false,
    "ExecuteTime": {
     "end_time": "2024-07-25T03:49:51.428525200Z",
     "start_time": "2024-07-25T03:49:51.409003Z"
    }
   },
   "id": "d74f0594dc7ffa8",
   "execution_count": 52
  },
  {
   "cell_type": "code",
   "outputs": [
    {
     "name": "stdout",
     "output_type": "stream",
     "text": [
      "rnn: tensor([[[-2.9867, -2.8320, -2.9523, -2.8997, -2.8276, -2.8653, -2.9014,\n",
      "          -2.9557, -2.7859, -2.9746, -2.8811, -2.9719, -2.8126, -2.8700,\n",
      "          -2.8969, -2.9388, -2.7883, -2.9212]]], grad_fn=<LogSoftmaxBackward0>)\n",
      "lstm: tensor([[[-2.8922, -2.9782, -2.8698, -2.8290, -2.8761, -2.9078, -2.8323,\n",
      "          -2.8452, -2.9387, -2.8487, -2.8687, -2.8164, -2.9794, -2.8551,\n",
      "          -2.9614, -2.9341, -2.9678, -2.8515]]], grad_fn=<LogSoftmaxBackward0>)\n",
      "gru: tensor([[[-2.8259, -2.9453, -2.9658, -2.8435, -2.9873, -2.9382, -2.9152,\n",
      "          -2.9741, -2.8570, -2.9131, -2.8123, -2.8924, -2.9270, -2.8810,\n",
      "          -2.8110, -2.8631, -2.8317, -2.8697]]], grad_fn=<LogSoftmaxBackward0>)\n"
     ]
    }
   ],
   "source": [
    "rnn = RNN(n_letters, n_hidden, n_categories)\n",
    "lstm = LSTM(n_letters, n_hidden, n_categories)\n",
    "gru = GRU(n_letters, n_hidden, n_categories)\n",
    "\n",
    "rnn_output, next_hidden = rnn(input, hidden)\n",
    "print(\"rnn:\", rnn_output)\n",
    "lstm_output, next_hidden, c = lstm(input, hidden, c)\n",
    "print(\"lstm:\", lstm_output)\n",
    "gru_output, next_hidden = gru(input, hidden)\n",
    "print(\"gru:\", gru_output)\n"
   ],
   "metadata": {
    "collapsed": false,
    "ExecuteTime": {
     "end_time": "2024-07-25T03:52:28.714996200Z",
     "start_time": "2024-07-25T03:52:28.682190100Z"
    }
   },
   "id": "7c07ff2ca94c1b7e",
   "execution_count": 57
  },
  {
   "cell_type": "code",
   "outputs": [],
   "source": [
    "def categroyFromOutput(output):\n",
    "    top_n,top_i = output.topk(1)\n",
    "    category_i = top_i.item()\n",
    "    return all_categories[category_i],category_i"
   ],
   "metadata": {
    "collapsed": false,
    "ExecuteTime": {
     "end_time": "2024-07-25T07:21:03.777753500Z",
     "start_time": "2024-07-25T07:21:03.758027300Z"
    }
   },
   "id": "6ad9062fa5e00e0e",
   "execution_count": 58
  },
  {
   "cell_type": "code",
   "outputs": [],
   "source": [
    "output = gru_output"
   ],
   "metadata": {
    "collapsed": false,
    "ExecuteTime": {
     "end_time": "2024-07-25T07:26:43.810030300Z",
     "start_time": "2024-07-25T07:26:43.784605100Z"
    }
   },
   "id": "c4d82f2d543dcc10",
   "execution_count": 59
  },
  {
   "cell_type": "code",
   "outputs": [
    {
     "name": "stdout",
     "output_type": "stream",
     "text": [
      "categroy: Russian\n",
      "categroy_i: 14\n"
     ]
    }
   ],
   "source": [
    "categroy,categroy_i = categroyFromOutput(output)\n",
    "print(\"categroy:\",categroy)\n",
    "print(\"categroy_i:\", categroy_i)"
   ],
   "metadata": {
    "collapsed": false,
    "ExecuteTime": {
     "end_time": "2024-07-25T07:27:42.178712100Z",
     "start_time": "2024-07-25T07:27:42.129007700Z"
    }
   },
   "id": "63fde71d7818c99b",
   "execution_count": 60
  },
  {
   "cell_type": "code",
   "outputs": [],
   "source": [
    "def randomTrainingExample():\n",
    "    category = random.choice(all_categories)\n",
    "    line = random.choice(category_lines[category])\n",
    "    category_tensor = torch.tensor([all_categories.index(category)],dtype=torch.long)\n",
    "    line_tensor = lineToTensor(line)\n",
    "    return category,line,category_tensor,line_tensor"
   ],
   "metadata": {
    "collapsed": false,
    "ExecuteTime": {
     "end_time": "2024-07-25T07:37:37.174456100Z",
     "start_time": "2024-07-25T07:37:37.150193100Z"
    }
   },
   "id": "5e5edfd68d8f021",
   "execution_count": 61
  },
  {
   "cell_type": "code",
   "outputs": [
    {
     "name": "stdout",
     "output_type": "stream",
     "text": [
      "categroy =  Korean /line =  Shin /category_tensor =  tensor([11])\n",
      "categroy =  Korean /line =  Youj /category_tensor =  tensor([11])\n",
      "categroy =  Polish /line =  Krakowski /category_tensor =  tensor([12])\n",
      "categroy =  Chinese /line =  Huo /category_tensor =  tensor([1])\n",
      "categroy =  Korean /line =  Seo /category_tensor =  tensor([11])\n",
      "categroy =  Polish /line =  Sienkiewicz /category_tensor =  tensor([12])\n",
      "categroy =  Irish /line =  Mulryan /category_tensor =  tensor([8])\n",
      "categroy =  Chinese /line =  Law /category_tensor =  tensor([1])\n",
      "categroy =  Irish /line =  Shannon /category_tensor =  tensor([8])\n",
      "categroy =  Scottish /line =  Mcintosh /category_tensor =  tensor([15])\n"
     ]
    }
   ],
   "source": [
    "for i in range(10):\n",
    "    category,line,category_tensor,line_tensor = randomTrainingExample()\n",
    "    print('categroy = ',category,'/line = ',line,'/category_tensor = ',category_tensor)"
   ],
   "metadata": {
    "collapsed": false,
    "ExecuteTime": {
     "end_time": "2024-07-25T07:39:16.854372200Z",
     "start_time": "2024-07-25T07:39:16.825164700Z"
    }
   },
   "id": "4db07d797718ec4a",
   "execution_count": 62
  },
  {
   "cell_type": "code",
   "outputs": [],
   "source": [
    "# 定义损失函数为nn.NLLLoss，因为RNN的最后一层是nn.LogSoftmax, 两者的内部计算逻辑正好能够吻合.  \n",
    "criterion = nn.NLLLoss()\n",
    "\n",
    "# 设置学习率为0.005\n",
    "learning_rate = 0.005 \n",
    "\n",
    "def trainRNN(category_tensor, line_tensor):\n",
    "    \"\"\"定义训练函数, 它的两个参数是category_tensor类别的张量表示, 相当于训练数据的标签,\n",
    "       line_tensor名字的张量表示, 相当于对应训练数据\"\"\"\n",
    "\n",
    "    # 在函数中, 首先通过实例化对象rnn初始化隐层张量\n",
    "    hidden = rnn.initHidden()\n",
    "\n",
    "    # 然后将模型结构中的梯度归0\n",
    "    rnn.zero_grad()\n",
    "\n",
    "    # 下面开始进行训练, 将训练数据line_tensor的每个字符逐个传入rnn之中, 得到最终结果\n",
    "    for i in range(line_tensor.size()[0]):\n",
    "        output, hidden = rnn(line_tensor[i], hidden)\n",
    "\n",
    "    # 因为我们的rnn对象由nn.RNN实例化得到, 最终输出形状是三维张量, 为了满足于category_tensor\n",
    "    # 进行对比计算损失, 需要减少第一个维度, 这里使用squeeze()方法\n",
    "    loss = criterion(output.squeeze(0), category_tensor)\n",
    "\n",
    "    # 损失进行反向传播\n",
    "    loss.backward()\n",
    "    # 更新模型中所有的参数\n",
    "    for p in rnn.parameters():\n",
    "        # 将参数的张量表示与参数的梯度乘以学习率的结果相加以此来更新参数\n",
    "        p.data.add_(-learning_rate, p.grad.data)\n",
    "    # 返回结果和损失的值\n",
    "    return output, loss.item()\n"
   ],
   "metadata": {
    "collapsed": false,
    "ExecuteTime": {
     "end_time": "2024-07-25T08:29:38.798218700Z",
     "start_time": "2024-07-25T08:29:38.767159200Z"
    }
   },
   "id": "14c354cbfef50ac3",
   "execution_count": 88
  },
  {
   "cell_type": "code",
   "outputs": [],
   "source": [
    "# 与传统RNN相比多出细胞状态c\n",
    "\n",
    "def trainLSTM(category_tensor, line_tensor):\n",
    "    hidden, c = lstm.initHiddenAndc()\n",
    "    lstm.zero_grad()\n",
    "    for i in range(line_tensor.size()[0]):\n",
    "        # 返回output, hidden以及细胞状态c\n",
    "        output, hidden, c = lstm(line_tensor[i], hidden, c)\n",
    "    loss = criterion(output.squeeze(0), category_tensor)\n",
    "    loss.backward()\n",
    "\n",
    "    for p in lstm.parameters():\n",
    "        p.data.add_(-learning_rate, p.grad.data)\n",
    "    return output, loss.item()\n"
   ],
   "metadata": {
    "collapsed": false,
    "ExecuteTime": {
     "end_time": "2024-07-25T08:31:42.093686400Z",
     "start_time": "2024-07-25T08:31:42.070965400Z"
    }
   },
   "id": "ba0957a918c09866",
   "execution_count": 96
  },
  {
   "cell_type": "code",
   "outputs": [],
   "source": [
    "# 与RNN完全相同, 只不过名字改成了GRU\n",
    "\n",
    "def trainGRU(category_tensor, line_tensor):\n",
    "    hidden = gru.initHidden()\n",
    "    gru.zero_grad()\n",
    "    for i in range(line_tensor.size()[0]):\n",
    "        output, hidden= gru(line_tensor[i], hidden)\n",
    "    loss = criterion(output.squeeze(0), category_tensor)\n",
    "    loss.backward()\n",
    "\n",
    "    for p in gru.parameters():\n",
    "        p.data.add_(-learning_rate, p.grad.data)\n",
    "    return output, loss.item()\n"
   ],
   "metadata": {
    "collapsed": false,
    "ExecuteTime": {
     "end_time": "2024-07-25T08:31:42.684236600Z",
     "start_time": "2024-07-25T08:31:42.658330100Z"
    }
   },
   "id": "c82467497c463660",
   "execution_count": 97
  },
  {
   "cell_type": "code",
   "outputs": [],
   "source": [
    "def timeSince(since):\n",
    "    now = time.time()\n",
    "    s = now - since\n",
    "    m = math.floor(s/60)\n",
    "    s -= m*60\n",
    "    return '%dm %ds' % (m, s)"
   ],
   "metadata": {
    "collapsed": false,
    "ExecuteTime": {
     "end_time": "2024-07-25T08:31:43.423507100Z",
     "start_time": "2024-07-25T08:31:43.395803Z"
    }
   },
   "id": "fc027d3268229652",
   "execution_count": 98
  },
  {
   "cell_type": "code",
   "outputs": [],
   "source": [
    "since = time.time() - 10*60"
   ],
   "metadata": {
    "collapsed": false,
    "ExecuteTime": {
     "end_time": "2024-07-25T08:31:43.691633300Z",
     "start_time": "2024-07-25T08:31:43.669528100Z"
    }
   },
   "id": "b72b6bfb71331ba5",
   "execution_count": 99
  },
  {
   "cell_type": "code",
   "outputs": [
    {
     "name": "stdout",
     "output_type": "stream",
     "text": [
      "10m 0s\n"
     ]
    }
   ],
   "source": [
    "period = timeSince(since)\n",
    "print(period)"
   ],
   "metadata": {
    "collapsed": false,
    "ExecuteTime": {
     "end_time": "2024-07-25T08:31:44.127135600Z",
     "start_time": "2024-07-25T08:31:44.102182500Z"
    }
   },
   "id": "a710f5792eb35c0c",
   "execution_count": 100
  },
  {
   "cell_type": "code",
   "outputs": [],
   "source": [
    "# 设置训练迭代次数\n",
    "n_iters = 1000\n",
    "# 设置结果的打印间隔\n",
    "print_every = 50\n",
    "# 设置绘制损失曲线上的制图间隔\n",
    "plot_every = 10\n",
    "\n",
    "def train(train_type_fn):\n",
    "    \"\"\"训练过程的日志打印函数, 参数train_type_fn代表选择哪种模型训练函数, 如trainRNN\"\"\"\n",
    "    # 每个制图间隔损失保存列表\n",
    "    all_losses = []\n",
    "    # 获得训练开始时间戳\n",
    "    start = time.time()\n",
    "    # 设置初始间隔损失为0\n",
    "    current_loss = 0\n",
    "    # 从1开始进行训练迭代, 共n_iters次 \n",
    "    for iter in range(1, n_iters + 1):\n",
    "        # 通过randomTrainingExample函数随机获取一组训练数据和对应的类别\n",
    "        category, line, category_tensor, line_tensor = randomTrainingExample()\n",
    "        # 将训练数据和对应类别的张量表示传入到train函数中\n",
    "        output, loss = train_type_fn(category_tensor, line_tensor)      \n",
    "        # 计算制图间隔中的总损失\n",
    "        current_loss += loss   \n",
    "        # 如果迭代数能够整除打印间隔\n",
    "        if iter % print_every == 0:\n",
    "            # 取该迭代步上的output通过categoryFromOutput函数获得对应的类别和类别索引\n",
    "            guess, guess_i = categroyFromOutput(output)\n",
    "            # 然后和真实的类别category做比较, 如果相同则打对号, 否则打叉号.\n",
    "            correct = '✓' if guess == category else '✗ (%s)' % category\n",
    "            # 打印迭代步, 迭代步百分比, 当前训练耗时, 损失, 该步预测的名字, 以及是否正确                                \n",
    "            print('%d %d%% (%s) %.4f %s / %s %s' % (iter, iter / n_iters * 100, timeSince(start), loss, line, guess, correct))\n",
    "\n",
    "        # 如果迭代数能够整除制图间隔\n",
    "        if iter % plot_every == 0:\n",
    "            # 将保存该间隔中的平均损失到all_losses列表中\n",
    "            all_losses.append(current_loss / plot_every)\n",
    "            # 间隔损失重置为0\n",
    "            current_loss = 0\n",
    "    # 返回对应的总损失列表和训练耗时\n",
    "    return all_losses, int(time.time() - start)\n"
   ],
   "metadata": {
    "collapsed": false,
    "ExecuteTime": {
     "end_time": "2024-07-25T08:31:44.694987500Z",
     "start_time": "2024-07-25T08:31:44.644622400Z"
    }
   },
   "id": "c20d2584b83cf92c",
   "execution_count": 101
  },
  {
   "cell_type": "code",
   "outputs": [
    {
     "name": "stdout",
     "output_type": "stream",
     "text": [
      "50 5% (0m 0s) 3.1133 Akhtar / Italian ✗ (English)\n",
      "100 10% (0m 0s) 2.8251 Mikolajczak / Italian ✗ (Polish)\n",
      "150 15% (0m 0s) 2.5555 Tiedeman / Italian ✗ (German)\n",
      "200 20% (0m 0s) 2.4189 Ha / Scottish ✗ (Vietnamese)\n",
      "250 25% (0m 0s) 2.4383 Brambani / German ✗ (Italian)\n",
      "300 30% (0m 0s) 2.6438 Lambert / Italian ✗ (French)\n",
      "350 35% (0m 0s) 2.1478 Bang / Korean ✓\n",
      "400 40% (0m 0s) 2.4522 Phung / Vietnamese ✓\n",
      "450 45% (0m 0s) 2.4773 Palmisano / Russian ✗ (Italian)\n",
      "500 50% (0m 0s) 2.1185 Potseluev / Russian ✓\n",
      "550 55% (0m 0s) 2.7955 Rinn / Korean ✗ (Irish)\n",
      "600 60% (0m 1s) 3.1570 Budny / Vietnamese ✗ (Polish)\n",
      "650 65% (0m 1s) 2.9927 Antoun / Irish ✗ (Arabic)\n",
      "700 70% (0m 1s) 2.5367 Otton / Scottish ✗ (English)\n",
      "750 75% (0m 1s) 2.3214 Michel / Japanese ✗ (Dutch)\n",
      "800 80% (0m 1s) 1.9753 Bang / Vietnamese ✗ (Korean)\n",
      "850 85% (0m 1s) 4.4115 Gul / Korean ✗ (Russian)\n",
      "900 90% (0m 1s) 2.7637 Zamorano / Japanese ✗ (Spanish)\n",
      "950 95% (0m 1s) 2.8495 Kozlow / English ✗ (Polish)\n",
      "1000 100% (0m 1s) 3.0259 Rian / Vietnamese ✗ (Irish)\n",
      "50 5% (0m 0s) 2.8374 Coelho / Korean ✗ (Portuguese)\n",
      "100 10% (0m 0s) 2.9029 Janick / Dutch ✗ (Czech)\n",
      "150 15% (0m 0s) 3.0005 Kedzierski / Dutch ✗ (Polish)\n",
      "200 20% (0m 0s) 2.8539 Kouros / Dutch ✗ (Greek)\n",
      "250 25% (0m 0s) 2.8882 Kunikida / Dutch ✗ (Japanese)\n",
      "300 30% (0m 1s) 2.8754 Sebastiani / Dutch ✗ (Italian)\n",
      "350 35% (0m 1s) 2.8541 Torres / Dutch ✗ (Portuguese)\n",
      "400 40% (0m 1s) 2.8626 Fertig / English ✗ (German)\n",
      "450 45% (0m 1s) 2.8425 Trang / Dutch ✗ (Vietnamese)\n",
      "500 50% (0m 1s) 2.9726 Rang / English ✗ (Chinese)\n",
      "550 55% (0m 2s) 2.9018 Bradan / Dutch ✗ (Irish)\n",
      "600 60% (0m 2s) 2.8925 Basara / English ✗ (Arabic)\n",
      "650 65% (0m 2s) 2.8372 Trieu / English ✗ (Vietnamese)\n",
      "700 70% (0m 2s) 2.9193 Ooka / Dutch ✗ (Japanese)\n",
      "750 75% (0m 2s) 2.9057 Kouba / English ✗ (Czech)\n",
      "800 80% (0m 3s) 2.9108 Giroux / English ✗ (French)\n",
      "850 85% (0m 3s) 2.8313 Koumanidis / English ✗ (Greek)\n",
      "900 90% (0m 3s) 2.9647 Quan / English ✗ (Chinese)\n",
      "950 95% (0m 3s) 2.8943 Kaima / English ✗ (Japanese)\n",
      "1000 100% (0m 4s) 2.8673 Noh / English ✗ (Korean)\n",
      "50 5% (0m 0s) 2.5834 Cabral / Spanish ✗ (Portuguese)\n",
      "100 10% (0m 0s) 2.8648 Pavoni / Arabic ✗ (Italian)\n",
      "150 15% (0m 0s) 1.9017 Phan / Korean ✗ (Vietnamese)\n",
      "200 20% (0m 0s) 3.1572 Schindler / Italian ✗ (German)\n",
      "250 25% (0m 0s) 2.3851 Stanek / Polish ✓\n",
      "300 30% (0m 0s) 3.0850 Nomura / English ✗ (Japanese)\n",
      "350 35% (0m 0s) 2.8385 O'Donnell / Greek ✗ (Irish)\n",
      "400 40% (0m 0s) 3.3371 Morales / Greek ✗ (Spanish)\n",
      "450 45% (0m 0s) 2.3534 Kouros / English ✗ (Greek)\n",
      "500 50% (0m 0s) 2.6788 Mckay / Arabic ✗ (Irish)\n",
      "550 55% (0m 0s) 2.6460 Janowski / Japanese ✗ (Polish)\n",
      "600 60% (0m 1s) 2.9397 Sheehy / Arabic ✗ (Irish)\n",
      "650 65% (0m 1s) 1.3994 Sai / Chinese ✗ (Vietnamese)\n",
      "700 70% (0m 1s) 3.1453 Arriola / Japanese ✗ (Spanish)\n",
      "750 75% (0m 1s) 2.1676 Kikkawa / Japanese ✓\n",
      "800 80% (0m 1s) 3.4297 Kuang / English ✗ (Chinese)\n",
      "850 85% (0m 1s) 2.9809 Antunez / Japanese ✗ (Spanish)\n",
      "900 90% (0m 1s) 1.7946 Diep / Chinese ✗ (Vietnamese)\n",
      "950 95% (0m 1s) 1.4316 Ha / Vietnamese ✓\n",
      "1000 100% (0m 1s) 2.3735 Ganim / Arabic ✓\n"
     ]
    },
    {
     "data": {
      "text/plain": "<BarContainer object of 3 artists>"
     },
     "execution_count": 102,
     "metadata": {},
     "output_type": "execute_result"
    },
    {
     "data": {
      "text/plain": "<Figure size 640x480 with 1 Axes>",
      "image/png": "[encoded data removed]"
     },
     "metadata": {},
     "output_type": "display_data"
    },
    {
     "data": {
      "text/plain": "<Figure size 640x480 with 1 Axes>",
      "image/png": "[encoded data removed]"
     },
     "metadata": {},
     "output_type": "display_data"
    }
   ],
   "source": [
    "# 调用train函数, 分别进行RNN, LSTM, GRU模型的训练\n",
    "# 并返回各自的全部损失, 以及训练耗时用于制图\n",
    "all_losses1, period1 = train(trainRNN)\n",
    "all_losses2, period2 = train(trainLSTM)\n",
    "all_losses3, period3 = train(trainRNN)\n",
    "\n",
    "# 绘制损失对比曲线, 训练耗时对比柱张图\n",
    "# 创建画布0\n",
    "plt.figure(0)\n",
    "# 绘制损失对比曲线\n",
    "plt.plot(all_losses1, label=\"RNN\")\n",
    "plt.plot(all_losses2, color=\"red\", label=\"LSTM\")\n",
    "plt.plot(all_losses3, color=\"orange\", label=\"GRU\") \n",
    "plt.legend(loc='upper left') \n",
    "\n",
    "\n",
    "# 创建画布1\n",
    "plt.figure(1)\n",
    "x_data=[\"RNN\", \"LSTM\", \"GRU\"] \n",
    "y_data = [period1, period2, period3]\n",
    "# 绘制训练耗时对比柱状图\n",
    "plt.bar(range(len(x_data)), y_data, tick_label=x_data)\n"
   ],
   "metadata": {
    "collapsed": false,
    "ExecuteTime": {
     "end_time": "2024-07-25T08:31:53.096248500Z",
     "start_time": "2024-07-25T08:31:45.546792200Z"
    }
   },
   "id": "f3b4317c5a57bbb4",
   "execution_count": 102
  },
  {
   "cell_type": "code",
   "outputs": [],
   "source": [
    "def predict(input_line, evaluate, n_predictions=3):\n",
    "    \"\"\"预测函数, 输入参数input_line代表输入的名字, \n",
    "       n_predictions代表需要取最有可能的top个\"\"\"\n",
    "    # 首先打印输入\n",
    "    print('\\n> %s' % input_line)\n",
    "\n",
    "    # 以下操作的相关张量不进行求梯度\n",
    "    with torch.no_grad():\n",
    "        # 使输入的名字转换为张量表示, 并使用evaluate函数获得预测输出\n",
    "        output = evaluate(lineToTensor(input_line))\n",
    "\n",
    "        # 从预测的输出中取前3个最大的值及其索引\n",
    "        topv, topi = output.topk(n_predictions, 1, True)\n",
    "        # 创建盛装结果的列表\n",
    "        predictions = []\n",
    "        # 遍历n_predictions\n",
    "        for i in range(n_predictions):\n",
    "            # 从topv中取出的output值\n",
    "            value = topv[0][i].item()\n",
    "            # 取出索引并找到对应的类别\n",
    "            category_index = topi[0][i].item()\n",
    "            # 打印ouput的值, 和对应的类别\n",
    "            print('(%.2f) %s' % (value, all_categories[category_index]))\n",
    "            # 将结果装进predictions中\n",
    "            predictions.append([value, all_categories[category_index]])\n"
   ],
   "metadata": {
    "collapsed": false,
    "ExecuteTime": {
     "end_time": "2024-07-25T08:32:46.591146700Z",
     "start_time": "2024-07-25T08:32:46.552841800Z"
    }
   },
   "id": "b81b30d18328daed",
   "execution_count": 103
  },
  {
   "cell_type": "code",
   "outputs": [],
   "source": [
    "def evaluateRNN(line_tensor):\n",
    "    \"\"\"评估函数, 和训练函数逻辑相同, 参数是line_tensor代表名字的张量表示\"\"\"\n",
    "    # 初始化隐层张量\n",
    "    hidden = rnn.initHidden()\n",
    "    # 将评估数据line_tensor的每个字符逐个传入rnn之中\n",
    "    for i in range(line_tensor.size()[0]):\n",
    "        output, hidden = rnn(line_tensor[i], hidden)\n",
    "    # 获得输出结果\n",
    "    return output.squeeze(0)\n"
   ],
   "metadata": {
    "collapsed": false,
    "ExecuteTime": {
     "end_time": "2024-07-25T08:32:59.265157Z",
     "start_time": "2024-07-25T08:32:59.233642200Z"
    }
   },
   "id": "c2b10487587b410a",
   "execution_count": 105
  },
  {
   "cell_type": "code",
   "outputs": [],
   "source": [
    "def evaluateLSTM(line_tensor):\n",
    "    # 初始化隐层张量和细胞状态张量\n",
    "    hidden, c = lstm.initHiddenAndc()\n",
    "    # 将评估数据line_tensor的每个字符逐个传入lstm之中\n",
    "    for i in range(line_tensor.size()[0]):\n",
    "        output, hidden, c = lstm(line_tensor[i], hidden, c)\n",
    "    return output.squeeze(0)\n"
   ],
   "metadata": {
    "collapsed": false,
    "ExecuteTime": {
     "end_time": "2024-07-25T08:33:40.011487500Z",
     "start_time": "2024-07-25T08:33:39.973987500Z"
    }
   },
   "id": "6bf88419141437f5",
   "execution_count": 109
  },
  {
   "cell_type": "code",
   "outputs": [],
   "source": [
    "def evaluateGRU(line_tensor):\n",
    "    hidden = gru.initHidden()\n",
    "    # 将评估数据line_tensor的每个字符逐个传入gru之中\n",
    "    for i in range(line_tensor.size()[0]):\n",
    "        output, hidden = gru(line_tensor[i], hidden)\n",
    "    return output.squeeze(0)\n"
   ],
   "metadata": {
    "collapsed": false,
    "ExecuteTime": {
     "end_time": "2024-07-25T08:33:40.428296900Z",
     "start_time": "2024-07-25T08:33:40.393099800Z"
    }
   },
   "id": "1071d85fc6113681",
   "execution_count": 110
  },
  {
   "cell_type": "code",
   "outputs": [
    {
     "name": "stdout",
     "output_type": "stream",
     "text": [
      "------------------\n",
      "\n",
      "> Dovesky\n",
      "(-2.20) Japanese\n",
      "(-2.28) Greek\n",
      "(-2.34) Russian\n",
      "\n",
      "> Jackson\n",
      "(-2.30) Russian\n",
      "(-2.33) Greek\n",
      "(-2.38) Irish\n",
      "\n",
      "> Satoshi\n",
      "(-2.08) Japanese\n",
      "(-2.44) Italian\n",
      "(-2.48) Greek\n",
      "------------------\n",
      "\n",
      "> Dovesky\n",
      "(-2.80) English\n",
      "(-2.80) Dutch\n",
      "(-2.81) Italian\n",
      "\n",
      "> Jackson\n",
      "(-2.78) English\n",
      "(-2.81) Dutch\n",
      "(-2.82) Italian\n",
      "\n",
      "> Satoshi\n",
      "(-2.79) English\n",
      "(-2.81) Italian\n",
      "(-2.82) Dutch\n",
      "------------------\n",
      "\n",
      "> Dovesky\n",
      "(-2.79) Arabic\n",
      "(-2.80) Russian\n",
      "(-2.84) Vietnamese\n",
      "\n",
      "> Jackson\n",
      "(-2.79) Arabic\n",
      "(-2.80) Russian\n",
      "(-2.84) Japanese\n",
      "\n",
      "> Satoshi\n",
      "(-2.81) Russian\n",
      "(-2.82) Arabic\n",
      "(-2.83) Spanish\n"
     ]
    }
   ],
   "source": [
    "for evaluate_fn in [evaluateRNN, evaluateLSTM, evaluateGRU]: \n",
    "    print(\"-\"*18)\n",
    "    predict('Dovesky', evaluate_fn)\n",
    "    predict('Jackson', evaluate_fn)\n",
    "    predict('Satoshi', evaluate_fn)\n"
   ],
   "metadata": {
    "collapsed": false,
    "ExecuteTime": {
     "end_time": "2024-07-25T08:33:40.796663900Z",
     "start_time": "2024-07-25T08:33:40.764752300Z"
    }
   },
   "id": "97a15684b6f4da55",
   "execution_count": 111
  },
  {
   "cell_type": "code",
   "outputs": [],
   "source": [],
   "metadata": {
    "collapsed": false
   },
   "id": "bd4645b8c2632037"
  }
 ],
 "metadata": {
  "kernelspec": {
   "display_name": "Python 3",
   "language": "python",
   "name": "python3"
  },
  "language_info": {
   "codemirror_mode": {
    "name": "ipython",
    "version": 2
   },
   "file_extension": ".py",
   "mimetype": "text/x-python",
   "name": "python",
   "nbconvert_exporter": "python",
   "pygments_lexer": "ipython2",
   "version": "2.7.6"
  }
 },
 "nbformat": 4,
 "nbformat_minor": 5
}
